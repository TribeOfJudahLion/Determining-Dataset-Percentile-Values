{
 "cells": [
  {
   "cell_type": "markdown",
   "source": [
    "# COVID-19 Data Loading and Preprocessing\n",
    "We will load the COVID-19 data, select the relevant columns, and ensure that the data types are correct.\n"
   ],
   "metadata": {
    "collapsed": false
   }
  },
  {
   "cell_type": "code",
   "execution_count": 12,
   "outputs": [],
   "source": [
    "# Import libraries\n",
    "import numpy as np\n",
    "import pandas as pd\n"
   ],
   "metadata": {
    "collapsed": false
   }
  },
  {
   "cell_type": "code",
   "execution_count": 13,
   "outputs": [],
   "source": [
    "# Define the data loading and preprocessing function\n",
    "def load_and_preprocess_data(filepath):\n",
    "    \"\"\"\n",
    "    Load the COVID-19 data from a csv file and preprocess it by selecting specific columns and\n",
    "    ensuring correct data types.\n",
    "\n",
    "    Parameters:\n",
    "    - filepath: str, the path to the csv file\n",
    "\n",
    "    Returns:\n",
    "    - DataFrame with selected columns and converted data types\n",
    "    \"\"\"\n",
    "    try:\n",
    "        # Load the data into a DataFrame\n",
    "        data = pd.read_csv(filepath)\n",
    "\n",
    "        # Select relevant columns\n",
    "        columns_of_interest = ['iso_code', 'continent', 'location', 'date', 'total_cases', 'new_cases']\n",
    "        data = data[columns_of_interest]\n",
    "\n",
    "        # Convert date column to datetime\n",
    "        data['date'] = pd.to_datetime(data['date'])\n",
    "\n",
    "        # Ensure numeric columns are of appropriate data type\n",
    "        numeric_columns = ['total_cases', 'new_cases']\n",
    "        data[numeric_columns] = data[numeric_columns].apply(pd.to_numeric, errors='coerce')\n",
    "\n",
    "        return data\n",
    "\n",
    "    except FileNotFoundError:\n",
    "        print(f\"The file {filepath} does not exist.\")\n",
    "        return None\n",
    "    except Exception as e:\n",
    "        print(f\"An error occurred: {e}\")\n",
    "        return None\n"
   ],
   "metadata": {
    "collapsed": false
   }
  },
  {
   "cell_type": "markdown",
   "source": [
    "## Load the Data\n",
    "Now we will load the data using the function we defined above.\n"
   ],
   "metadata": {
    "collapsed": false
   }
  },
  {
   "cell_type": "code",
   "execution_count": 14,
   "outputs": [
    {
     "name": "stderr",
     "output_type": "stream",
     "text": [
      "C:\\Users\\Rxque\\AppData\\Local\\Temp\\ipykernel_26788\\3403688651.py:22: UserWarning: Parsing dates in %d/%m/%Y format when dayfirst=False (the default) was specified. Pass `dayfirst=True` or specify a format to silence this warning.\n",
      "  data['date'] = pd.to_datetime(data['date'])\n"
     ]
    }
   ],
   "source": [
    "# Load the data\n",
    "covid_data_filepath = \"covid-data.csv\"\n",
    "covid_data = load_and_preprocess_data(covid_data_filepath)\n"
   ],
   "metadata": {
    "collapsed": false
   }
  },
  {
   "cell_type": "markdown",
   "source": [
    "## Inspect the Data\n",
    "Let's look at the first few rows of the dataframe, check the data types of the columns, and the shape of the dataframe.\n"
   ],
   "metadata": {
    "collapsed": false
   }
  },
  {
   "cell_type": "code",
   "execution_count": 16,
   "outputs": [
    {
     "data": {
      "text/plain": "  iso_code continent     location       date  total_cases  new_cases\n0      AFG      Asia  Afghanistan 2020-02-24            5          5\n1      AFG      Asia  Afghanistan 2020-02-25            5          0\n2      AFG      Asia  Afghanistan 2020-02-26            5          0\n3      AFG      Asia  Afghanistan 2020-02-27            5          0\n4      AFG      Asia  Afghanistan 2020-02-28            5          0",
      "text/html": "<div>\n<style scoped>\n    .dataframe tbody tr th:only-of-type {\n        vertical-align: middle;\n    }\n\n    .dataframe tbody tr th {\n        vertical-align: top;\n    }\n\n    .dataframe thead th {\n        text-align: right;\n    }\n</style>\n<table border=\"1\" class=\"dataframe\">\n  <thead>\n    <tr style=\"text-align: right;\">\n      <th></th>\n      <th>iso_code</th>\n      <th>continent</th>\n      <th>location</th>\n      <th>date</th>\n      <th>total_cases</th>\n      <th>new_cases</th>\n    </tr>\n  </thead>\n  <tbody>\n    <tr>\n      <th>0</th>\n      <td>AFG</td>\n      <td>Asia</td>\n      <td>Afghanistan</td>\n      <td>2020-02-24</td>\n      <td>5</td>\n      <td>5</td>\n    </tr>\n    <tr>\n      <th>1</th>\n      <td>AFG</td>\n      <td>Asia</td>\n      <td>Afghanistan</td>\n      <td>2020-02-25</td>\n      <td>5</td>\n      <td>0</td>\n    </tr>\n    <tr>\n      <th>2</th>\n      <td>AFG</td>\n      <td>Asia</td>\n      <td>Afghanistan</td>\n      <td>2020-02-26</td>\n      <td>5</td>\n      <td>0</td>\n    </tr>\n    <tr>\n      <th>3</th>\n      <td>AFG</td>\n      <td>Asia</td>\n      <td>Afghanistan</td>\n      <td>2020-02-27</td>\n      <td>5</td>\n      <td>0</td>\n    </tr>\n    <tr>\n      <th>4</th>\n      <td>AFG</td>\n      <td>Asia</td>\n      <td>Afghanistan</td>\n      <td>2020-02-28</td>\n      <td>5</td>\n      <td>0</td>\n    </tr>\n  </tbody>\n</table>\n</div>"
     },
     "metadata": {},
     "output_type": "display_data"
    }
   ],
   "source": [
    "# Display the first few rows of the dataframe\n",
    "if covid_data is not None:\n",
    "    display(covid_data.head(5))\n",
    "else:\n",
    "    print(\"Data loading failed.\")\n"
   ],
   "metadata": {
    "collapsed": false
   }
  },
  {
   "cell_type": "code",
   "execution_count": 17,
   "outputs": [
    {
     "name": "stdout",
     "output_type": "stream",
     "text": [
      "iso_code               object\n",
      "continent              object\n",
      "location               object\n",
      "date           datetime64[ns]\n",
      "total_cases             int64\n",
      "new_cases               int64\n",
      "dtype: object\n"
     ]
    }
   ],
   "source": [
    "# Print data types\n",
    "if covid_data is not None:\n",
    "    print(covid_data.dtypes)\n"
   ],
   "metadata": {
    "collapsed": false
   }
  },
  {
   "cell_type": "code",
   "execution_count": 18,
   "outputs": [
    {
     "name": "stdout",
     "output_type": "stream",
     "text": [
      "The shape of the DataFrame is: (5818, 6)\n"
     ]
    }
   ],
   "source": [
    "# Print the shape of the dataframe\n",
    "if covid_data is not None:\n",
    "    print(f\"The shape of the DataFrame is: {covid_data.shape}\")\n"
   ],
   "metadata": {
    "collapsed": false
   }
  },
  {
   "cell_type": "markdown",
   "source": [
    "## Analyze the Data\n",
    "We will calculate various percentiles for the 'new_cases' column to understand its distribution.\n"
   ],
   "metadata": {
    "collapsed": false
   }
  },
  {
   "cell_type": "code",
   "execution_count": 19,
   "outputs": [
    {
     "name": "stdout",
     "output_type": "stream",
     "text": [
      "25th percentile for new cases: 24.0\n",
      "50th percentile for new cases: 261.0\n",
      "60th percentile for new cases: 591.3999999999996\n",
      "75th percentile for new cases: 3666.0\n",
      "90th percentile for new cases: 32886.600000000006\n"
     ]
    }
   ],
   "source": [
    "# Calculate and print various percentiles for the 'new_cases' column\n",
    "if covid_data is not None:\n",
    "    percentiles_to_calculate = [25, 50, 60, 75, 90]\n",
    "    percentiles = np.percentile(covid_data['new_cases'].dropna(), percentiles_to_calculate)\n",
    "    for p, value in zip(percentiles_to_calculate, percentiles):\n",
    "        print(f\"{p}th percentile for new cases: {value}\")\n"
   ],
   "metadata": {
    "collapsed": false
   }
  }
 ],
 "metadata": {
  "kernelspec": {
   "display_name": "Python 3",
   "language": "python",
   "name": "python3"
  },
  "language_info": {
   "codemirror_mode": {
    "name": "ipython",
    "version": 2
   },
   "file_extension": ".py",
   "mimetype": "text/x-python",
   "name": "python",
   "nbconvert_exporter": "python",
   "pygments_lexer": "ipython2",
   "version": "2.7.6"
  }
 },
 "nbformat": 4,
 "nbformat_minor": 0
}
